{
 "cells": [
  {
   "cell_type": "markdown",
   "metadata": {},
   "source": [
    "# Variables y datos"
   ]
  },
  {
   "cell_type": "markdown",
   "metadata": {},
   "source": [
    "## Tipos de datos\n",
    "Existen 4 tipos de dato \"simple\" principalmente en Python:\n",
    "  * Cadenas de caracteres\n",
    "  * valor entero\n",
    "  * valor decimal\n",
    "  * booleana"
   ]
  },
  {
   "cell_type": "code",
   "execution_count": 1,
   "metadata": {},
   "outputs": [],
   "source": [
    "# Tipos de datos\n",
    "\n",
    "a = str()   # Cadena de caracteres\n",
    "b = int()   # valor entero\n",
    "c = float() # Valor decimal\n",
    "d = bool()  # Booleano"
   ]
  },
  {
   "cell_type": "markdown",
   "metadata": {},
   "source": [
    "## Variables\n",
    "A diferencia de otros lenguajes, como Java o C, en python la asignación de variables no necesariamente va acompañada de\n",
    "el establecimiento de iun dato en concreto, se puede hacer (sobre todo en la definición de funciones) pero python infiere\n",
    "el tipo de dato de forma automática"
   ]
  },
  {
   "cell_type": "code",
   "execution_count": null,
   "metadata": {},
   "outputs": [],
   "source": [
    "# Asignación de varios tipos de variable\n",
    "\n",
    "a, b, c, d = 1, 2.5, 'hola', True\n",
    "print(a, b, c, d)\n",
    "\n",
    "a = 'hola mundo' == \"Hola Mundo\"\n",
    "b = 1\n",
    "c = 0.1\n",
    "d = True == 1 #/ False == 0"
   ]
  },
  {
   "cell_type": "markdown",
   "metadata": {},
   "source": [
    "## Operadores "
   ]
  },
  {
   "cell_type": "markdown",
   "metadata": {},
   "source": [
    "## Tipos de estructuras de datos\n",
    "\n",
    "Existen 4 tipos de estructura de datos\n",
    "* listas\n",
    "* tuplas\n",
    "* conjuntos\n",
    "* diccionarios"
   ]
  },
  {
   "cell_type": "code",
   "execution_count": null,
   "metadata": {},
   "outputs": [],
   "source": [
    "# Asignación de variables\n",
    "var_a = \"Hola mundo\"\n",
    "var_b = 1\n",
    "var_c = 3\n",
    "var_d = 5.2"
   ]
  },
  {
   "cell_type": "code",
   "execution_count": null,
   "metadata": {},
   "outputs": [
    {
     "name": "stdout",
     "output_type": "stream",
     "text": [
      "Igualdad: False\n",
      "Desigualdad: True\n",
      "Mayor que: True\n",
      "Menor que: True\n"
     ]
    }
   ],
   "source": [
    "print('Igualdad:', var_a == 'hola mundo')\n",
    "print('Desigualdad:', var_a != var_b)\n",
    "print('Mayor que:', var_c > var_b)\n",
    "print('Menor que:', var_c < var_d)"
   ]
  },
  {
   "cell_type": "markdown",
   "metadata": {},
   "source": [
    "### Listas\n",
    "* Conjuntos de datos ordenados\n",
    "* Mutables"
   ]
  },
  {
   "cell_type": "code",
   "execution_count": 2,
   "metadata": {},
   "outputs": [
    {
     "name": "stdout",
     "output_type": "stream",
     "text": [
      "['hola', 'mundo', 1, 2.5, True]\n",
      "[]\n",
      "[]\n"
     ]
    }
   ],
   "source": [
    "# Creación de una lista de datos\n",
    "lista = ['hola', 'mundo', 1, 2.5, True]\n",
    "print(lista)\n",
    "\n",
    "#si queremos crear una lista vacía\n",
    "lista_vacia = []\n",
    "print(lista_vacia)\n",
    "\n",
    "# o podemos usar la llamada al objeto directamente\n",
    "lista_vacia = list()\n",
    "print(lista_vacia)"
   ]
  },
  {
   "cell_type": "code",
   "execution_count": 3,
   "metadata": {},
   "outputs": [
    {
     "name": "stdout",
     "output_type": "stream",
     "text": [
      "hola\n",
      "mundo\n",
      "1\n",
      "2.5\n",
      "True\n"
     ]
    }
   ],
   "source": [
    "# Para iterar una lista\n",
    "for elemento in lista:\n",
    "    print(elemento)"
   ]
  },
  {
   "cell_type": "code",
   "execution_count": 4,
   "metadata": {},
   "outputs": [
    {
     "name": "stdout",
     "output_type": "stream",
     "text": [
      "hola\n",
      "True\n"
     ]
    }
   ],
   "source": [
    "#para acceder a un elemento concreto de la lista\n",
    "print(lista[0])\n",
    "print(lista[-1])"
   ]
  },
  {
   "cell_type": "code",
   "execution_count": 5,
   "metadata": {},
   "outputs": [
    {
     "name": "stdout",
     "output_type": "stream",
     "text": [
      "['Hola', 'mundo', 1, 2.5, True]\n"
     ]
    }
   ],
   "source": [
    "# Para modificar un elemento de una lista \n",
    "lista[0] = 'Hola'\n",
    "print(lista)"
   ]
  },
  {
   "cell_type": "code",
   "execution_count": 16,
   "metadata": {},
   "outputs": [
    {
     "name": "stdout",
     "output_type": "stream",
     "text": [
      "['Hola', 'mundo', 1, 2.5, True, 'nuevo elemento']\n"
     ]
    }
   ],
   "source": [
    "#para añadir un elemento de una lista\n",
    "lista.append('nuevo elemento')\n",
    "print(lista)"
   ]
  },
  {
   "cell_type": "markdown",
   "metadata": {},
   "source": [
    "### Tuplas\n",
    "\n",
    "* No mutables \n",
    "* ordenadas"
   ]
  },
  {
   "cell_type": "code",
   "execution_count": 6,
   "metadata": {},
   "outputs": [
    {
     "name": "stdout",
     "output_type": "stream",
     "text": [
      "('hola', 'mundo', 1, 2.5, True)\n",
      "()\n",
      "()\n"
     ]
    }
   ],
   "source": [
    "# Para crear una tupla\n",
    "tupla = ('hola', 'mundo', 1, 2.5, True)\n",
    "print(tupla)\n",
    "\n",
    "#si la queremos vacía\n",
    "tupla_vacia = ()\n",
    "print(tupla_vacia)\n",
    "\n",
    "# o podemos usar la llamada al objeto directamente\n",
    "tupla_vacia = tuple()\n",
    "print(tupla_vacia)"
   ]
  },
  {
   "cell_type": "code",
   "execution_count": 7,
   "metadata": {},
   "outputs": [
    {
     "name": "stdout",
     "output_type": "stream",
     "text": [
      "hola\n",
      "mundo\n",
      "1\n",
      "2.5\n",
      "True\n"
     ]
    }
   ],
   "source": [
    "# iteración de tuplas\n",
    "for elemento in tupla:\n",
    "    print(elemento)"
   ]
  },
  {
   "cell_type": "code",
   "execution_count": 8,
   "metadata": {},
   "outputs": [
    {
     "name": "stdout",
     "output_type": "stream",
     "text": [
      "hola\n",
      "True\n"
     ]
    }
   ],
   "source": [
    "# para acceder a un elemento concreto\n",
    "print(tupla[0])\n",
    "print(tupla[-1])"
   ]
  },
  {
   "cell_type": "code",
   "execution_count": 18,
   "metadata": {},
   "outputs": [
    {
     "name": "stdout",
     "output_type": "stream",
     "text": [
      "('hola', 'mundo', 1, 2.5, True, 'nuevo elemento')\n"
     ]
    }
   ],
   "source": [
    "#si queremos añadir un elemento a la tupla\n",
    "\n",
    "tupla = tupla + ('nuevo elemento',)\n",
    "print(tupla)"
   ]
  },
  {
   "cell_type": "code",
   "execution_count": 19,
   "metadata": {},
   "outputs": [
    {
     "ename": "TypeError",
     "evalue": "'tuple' object doesn't support item deletion",
     "output_type": "error",
     "traceback": [
      "\u001b[1;31m---------------------------------------------------------------------------\u001b[0m",
      "\u001b[1;31mTypeError\u001b[0m                                 Traceback (most recent call last)",
      "Cell \u001b[1;32mIn[19], line 3\u001b[0m\n\u001b[0;32m      1\u001b[0m \u001b[38;5;66;03m#si queremos eliminar un elemento a la tupla\u001b[39;00m\n\u001b[1;32m----> 3\u001b[0m \u001b[38;5;28;01mdel\u001b[39;00m tupla[\u001b[38;5;241m0\u001b[39m]\n\u001b[0;32m      4\u001b[0m \u001b[38;5;28mprint\u001b[39m(tupla)\n",
      "\u001b[1;31mTypeError\u001b[0m: 'tuple' object doesn't support item deletion"
     ]
    }
   ],
   "source": [
    "#Pero, si queremos eliminar un elemento a la tupla\n",
    "\n",
    "del tupla[0]\n",
    "print(tupla)"
   ]
  },
  {
   "cell_type": "code",
   "execution_count": null,
   "metadata": {},
   "outputs": [
    {
     "ename": "TypeError",
     "evalue": "'tuple' object does not support item assignment",
     "output_type": "error",
     "traceback": [
      "\u001b[1;31m---------------------------------------------------------------------------\u001b[0m",
      "\u001b[1;31mTypeError\u001b[0m                                 Traceback (most recent call last)",
      "Cell \u001b[1;32mIn[9], line 2\u001b[0m\n\u001b[0;32m      1\u001b[0m \u001b[38;5;66;03m#en cambio si queremos modificar una tupla\u001b[39;00m\n\u001b[1;32m----> 2\u001b[0m \u001b[43mtupla\u001b[49m\u001b[43m[\u001b[49m\u001b[38;5;241;43m0\u001b[39;49m\u001b[43m]\u001b[49m \u001b[38;5;241m=\u001b[39m \u001b[38;5;124m'\u001b[39m\u001b[38;5;124mERROR\u001b[39m\u001b[38;5;124m'\u001b[39m\n\u001b[0;32m      3\u001b[0m \u001b[38;5;28mprint\u001b[39m(tupla)\n",
      "\u001b[1;31mTypeError\u001b[0m: 'tuple' object does not support item assignment"
     ]
    }
   ],
   "source": [
    "#o,  si queremos modificar una tupla\n",
    "tupla[0] = 'ERROR'\n",
    "print(tupla)"
   ]
  },
  {
   "cell_type": "markdown",
   "metadata": {},
   "source": [
    "### Conjuntos de datos (set)\n",
    "\n",
    "* Conjuntos de datos no ordenados\n",
    "* Mutables\n",
    "* Solo almacena valores únicos"
   ]
  },
  {
   "cell_type": "code",
   "execution_count": 21,
   "metadata": {},
   "outputs": [
    {
     "name": "stdout",
     "output_type": "stream",
     "text": [
      "{1, 2.5, 'hola', 'mundo'}\n",
      "set()\n"
     ]
    }
   ],
   "source": [
    "# para crear un set\n",
    "set1 = {'hola', 'mundo', 1, 2.5, True}\n",
    "print(set1)\n",
    "\n",
    "# si lo queremos crear vacío\n",
    "set_vacio = set()\n",
    "print(set_vacio)"
   ]
  },
  {
   "cell_type": "code",
   "execution_count": 22,
   "metadata": {},
   "outputs": [
    {
     "name": "stdout",
     "output_type": "stream",
     "text": [
      "1\n",
      "2.5\n",
      "hola\n",
      "mundo\n"
     ]
    }
   ],
   "source": [
    "# para iterar los datos del set\n",
    "for elemento in set1:\n",
    "    print(elemento)"
   ]
  },
  {
   "cell_type": "code",
   "execution_count": 23,
   "metadata": {},
   "outputs": [
    {
     "name": "stdout",
     "output_type": "stream",
     "text": [
      "{1, 2.5, 'mundo', 'hola', 'nueva_elemento'}\n"
     ]
    }
   ],
   "source": [
    "# si queremos añadir un elemento al set\n",
    "set1.add('nueva_elemento')\n",
    "print(set1)\n"
   ]
  },
  {
   "cell_type": "code",
   "execution_count": 25,
   "metadata": {},
   "outputs": [
    {
     "name": "stdout",
     "output_type": "stream",
     "text": [
      "{1, 2.5, 'mundo', 'otro_nuevo_elemento', 'nueva_elemento'}\n"
     ]
    }
   ],
   "source": [
    "# si queremos eliminar un elemento del set\n",
    "\n",
    "set1.remove('hola')\n",
    "print(set1)"
   ]
  },
  {
   "cell_type": "code",
   "execution_count": 22,
   "metadata": {},
   "outputs": [
    {
     "ename": "TypeError",
     "evalue": "'set' object is not subscriptable",
     "output_type": "error",
     "traceback": [
      "\u001b[1;31m---------------------------------------------------------------------------\u001b[0m",
      "\u001b[1;31mTypeError\u001b[0m                                 Traceback (most recent call last)",
      "Cell \u001b[1;32mIn[22], line 3\u001b[0m\n\u001b[0;32m      1\u001b[0m \u001b[38;5;66;03m# en cambio, si queremos acceder a un elemento concreto:\u001b[39;00m\n\u001b[1;32m----> 3\u001b[0m \u001b[38;5;28mprint\u001b[39m(\u001b[43mset1\u001b[49m\u001b[43m[\u001b[49m\u001b[38;5;241;43m0\u001b[39;49m\u001b[43m]\u001b[49m) \u001b[38;5;66;03m# Error, sets no tienen indices\u001b[39;00m\n",
      "\u001b[1;31mTypeError\u001b[0m: 'set' object is not subscriptable"
     ]
    }
   ],
   "source": [
    "# en cambio, si queremos acceder a un elemento concreto:\n",
    "print(set1[0]) # Error, sets no tienen indices"
   ]
  },
  {
   "cell_type": "code",
   "execution_count": 23,
   "metadata": {},
   "outputs": [
    {
     "name": "stdout",
     "output_type": "stream",
     "text": [
      "{1, 2.5, 'mundo', 'hola', 'nueva_elemento'}\n"
     ]
    }
   ],
   "source": [
    "# y si queremos añadir un elemento repetido\n",
    "set1.add(1)\n",
    "print(set1)"
   ]
  },
  {
   "cell_type": "markdown",
   "metadata": {},
   "source": [
    "### Diccionarios\n",
    "\n",
    "* Conjuntos de datos no ordenados\n",
    "* Mutables\n",
    "* Permite almacenar pares de clave-valor"
   ]
  },
  {
   "cell_type": "code",
   "execution_count": 2,
   "metadata": {},
   "outputs": [
    {
     "name": "stdout",
     "output_type": "stream",
     "text": [
      "lista: ['hola', 'mundo', 1, 2.5, True]\n",
      "tupla: ('hola', 'mundo', 1, 2.5, True)\n",
      "conjunto: {1, 'mundo', 2.5, 'hola'}\n"
     ]
    }
   ],
   "source": [
    "# para crear un diccionario\n",
    "from piezas import print_dict_cols\n",
    "diccionario = {\n",
    "    'lista' : ['hola', 'mundo', 1, 2.5, True],\n",
    "    'tupla' : ('hola', 'mundo', 1, 2.5, True),\n",
    "    'conjunto' : {'hola', 'mundo', 1, 2.5, True},\n",
    "}\n",
    "print_dict_cols(diccionario)"
   ]
  },
  {
   "cell_type": "code",
   "execution_count": 3,
   "metadata": {},
   "outputs": [
    {
     "name": "stdout",
     "output_type": "stream",
     "text": [
      "lista: ['hola', 'mundo', 1, 2.5, True, 'hola', 'mundo', 1, 2.5, True]\n",
      "tupla: ('hola', 'mundo', 1, 2.5, True, 'hola', 'mundo', 1, 2.5, True)\n",
      "conjunto: {1, 'mundo', 2.5, 'hola'}\n"
     ]
    }
   ],
   "source": [
    "# también se pueden almacenar variables\n",
    "#creamos una lista con elementos repetidos\n",
    "\n",
    "lista_repetida = ['hola', 'mundo', 1, 2.5, True, 'hola', 'mundo', 1, 2.5, True]\n",
    "diccionario = {\n",
    "    'lista' : lista_repetida,\n",
    "    'tupla' : tuple(lista_repetida),\n",
    "    'conjunto' : set(lista_repetida),\n",
    "}\n",
    "print_dict_cols(diccionario)"
   ]
  },
  {
   "cell_type": "code",
   "execution_count": 4,
   "metadata": {},
   "outputs": [
    {
     "name": "stdout",
     "output_type": "stream",
     "text": [
      "['hola', 'mundo', 1, 2.5, True, 'hola', 'mundo', 1, 2.5, True]\n",
      "('hola', 'mundo', 1, 2.5, True, 'hola', 'mundo', 1, 2.5, True)\n",
      "{1, 'mundo', 2.5, 'hola'}\n"
     ]
    }
   ],
   "source": [
    "# para acceder a un elemento del diccionario\n",
    "print(diccionario['lista'])\n",
    "print(diccionario['tupla'])\n",
    "print(diccionario['conjunto'])"
   ]
  },
  {
   "cell_type": "code",
   "execution_count": 5,
   "metadata": {},
   "outputs": [
    {
     "name": "stdout",
     "output_type": "stream",
     "text": [
      "['Hola', 'mundo', 1, 2.5, True, 'hola', 'mundo', 1, 2.5, True]\n"
     ]
    }
   ],
   "source": [
    "# para modificar un elemento del diccionario\n",
    "diccionario['lista'][0] = 'Hola'\n",
    "print(diccionario['lista'])"
   ]
  },
  {
   "cell_type": "code",
   "execution_count": 6,
   "metadata": {},
   "outputs": [
    {
     "name": "stdout",
     "output_type": "stream",
     "text": [
      "lista: ['Hola', 'mundo', 1, 2.5, True, 'hola', 'mundo', 1, 2.5, True]\n",
      "tupla: ('hola', 'mundo', 1, 2.5, True, 'hola', 'mundo', 1, 2.5, True)\n",
      "conjunto: {1, 'mundo', 2.5, 'hola'}\n",
      "amigos: {'nombre': 'Juan', 'apellido': 'Perez', 'edad': 30, 'direccion': {'calle': 'Av. San Juan', 'numero': 123}, 'telefono': ['666777888', '999888777'], 'hijos': ['Maria', 'Jose'], 'email': 'juan.perez@gmail.com', 'activo': True, 'nacionalidad': 'Española', 'estudios': {'graduado': True, 'carrera': 'Ingeniería Informática', 'universidad': 'Universidad de Granada'}}\n"
     ]
    }
   ],
   "source": [
    "# para añadir un elemento al diccionario\n",
    "#creamos un diccionario\n",
    "diccionario_simple= {\n",
    "    'nombre' : 'Juan',\n",
    "    'apellido' : 'Perez',\n",
    "    'edad' : 30,\n",
    "    'direccion' : {\n",
    "        'calle' : 'Av. San Juan',\n",
    "        'numero' : 123\n",
    "    },\n",
    "    'telefono' : ['666777888', '999888777'],\n",
    "    'hijos' : ['Maria', 'Jose'],\n",
    "    'email' : 'juan.perez@gmail.com',\n",
    "    'activo' : True,\n",
    "    'nacionalidad' : 'Española',\n",
    "    'estudios' : {\n",
    "        'graduado' : True,\n",
    "        'carrera' : 'Ingeniería Informática',\n",
    "        'universidad' : 'Universidad de Granada'\n",
    "    },\n",
    "}\n",
    "\n",
    "#añadimos el nuevo diccionario al que ya teníamos\n",
    "\n",
    "diccionario['amigos'] = diccionario_simple\n",
    "print_dict_cols(diccionario)"
   ]
  },
  {
   "cell_type": "code",
   "execution_count": 7,
   "metadata": {},
   "outputs": [
    {
     "name": "stdout",
     "output_type": "stream",
     "text": [
      "lista: ['Hola', 'mundo', 1, 2.5, True, 'hola', 'mundo', 1, 2.5, True]\n",
      "tupla: ('hola', 'mundo', 1, 2.5, True, 'hola', 'mundo', 1, 2.5, True)\n",
      "conjunto: {1, 'mundo', 2.5, 'hola'}\n"
     ]
    }
   ],
   "source": [
    "# para eliminar un elemento del diccionario\n",
    "del diccionario['amigos']\n",
    "print_dict_cols(diccionario)"
   ]
  },
  {
   "cell_type": "markdown",
   "metadata": {},
   "source": [
    "***"
   ]
  },
  {
   "cell_type": "markdown",
   "metadata": {},
   "source": [
    "# Notas\n",
    "* **Nota 1:** Texto de ejemplo"
   ]
  },
  {
   "cell_type": "markdown",
   "metadata": {},
   "source": [
    "# Bibliografia:\n",
    "\n",
    "   * **Elemento bibliografico 1**: url"
   ]
  },
  {
   "cell_type": "markdown",
   "metadata": {},
   "source": [
    "# Autor\n",
    "\n",
    "   - **Name:** Elidas\n",
    "   - **Email:** pyro.elidas@gmail.com\n",
    "   - **Python version:** 3.9.9\n",
    "   - **Date:** "
   ]
  }
 ],
 "metadata": {
  "kernelspec": {
   "display_name": "Python 3",
   "language": "python",
   "name": "python3"
  },
  "language_info": {
   "codemirror_mode": {
    "name": "ipython",
    "version": 3
   },
   "file_extension": ".py",
   "mimetype": "text/x-python",
   "name": "python",
   "nbconvert_exporter": "python",
   "pygments_lexer": "ipython3",
   "version": "3.9.9"
  },
  "orig_nbformat": 4
 },
 "nbformat": 4,
 "nbformat_minor": 2
}
