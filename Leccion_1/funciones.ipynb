{
 "cells": [
  {
   "cell_type": "markdown",
   "metadata": {},
   "source": [
    "# Funciones\n",
    "\n",
    "Las funciones en python se emplean para generar pequeños fragmentos de código aptos para su reutilización.\n",
    "\n",
    "Una función se define con la palabra clave `def` seguida del nombre de la función y los parámetros entre paréntesis, y luego un dos puntos. El cuerpo de la función está indentado y se termina con un `return`."
   ]
  },
  {
   "cell_type": "code",
   "execution_count": 2,
   "metadata": {},
   "outputs": [
    {
     "name": "stdout",
     "output_type": "stream",
     "text": [
      "8\n"
     ]
    }
   ],
   "source": [
    "# ejemplo de función\n",
    "def suma():\n",
    "    return 5 + 3\n",
    "\n",
    "# Llamada a la función\n",
    "\n",
    "print(suma())  # Imprime: 8"
   ]
  },
  {
   "cell_type": "markdown",
   "metadata": {},
   "source": [
    "## Parámetros de una función\n",
    "\n",
    "Los parámetros de una función son variables que se pasan a la función cuando se la llama. Pueden ser de cualquier tipo de datos, incluso otras funciones.\n",
    "\n",
    "Por ejemplo, la función `suma` recibe dos parámetros `a` y `b` de tipo entero."
   ]
  },
  {
   "cell_type": "code",
   "execution_count": 3,
   "metadata": {},
   "outputs": [
    {
     "name": "stdout",
     "output_type": "stream",
     "text": [
      "8\n"
     ]
    }
   ],
   "source": [
    "#ejemplo de uso\n",
    "\n",
    "def suma(a, b):\n",
    "    return a + b\n",
    "\n",
    "print(suma(5, 3))  # Imprime: 8"
   ]
  },
  {
   "cell_type": "markdown",
   "metadata": {},
   "source": [
    "## Parámetros especiales\n",
    "\n",
    "Existen algunos parámetros especiales que pueden ser útiles en algunas funciones:\n",
    "\n",
    "- `*args`: Este parámetro permite pasar una lista de argumentos arbitraria al función. Los argumentos se almacenan en una tupla llamada `args`.\n",
    "\n",
    "- `**kwargs`: Este parámetro permite pasar un diccionario de argumentos arbitrarios al función. Los argumentos se almacenan en un diccionario llamado `kwargs`."
   ]
  },
  {
   "cell_type": "code",
   "execution_count": 5,
   "metadata": {},
   "outputs": [
    {
     "name": "stdout",
     "output_type": "stream",
     "text": [
      "26\n"
     ]
    }
   ],
   "source": [
    "# ejemplo de uso de *args\n",
    "\n",
    "def suma_varios(*args):\n",
    "    return sum(args)\n",
    "\n",
    "print(suma_varios(5, 3, 7, 11))  # Imprime: 26"
   ]
  },
  {
   "cell_type": "code",
   "execution_count": 6,
   "metadata": {},
   "outputs": [
    {
     "name": "stdout",
     "output_type": "stream",
     "text": [
      "nombre: Juan\n",
      "edad: 30\n",
      "profesion: ingeniero\n"
     ]
    }
   ],
   "source": [
    "#ejemplo de uso de **kwargs\n",
    "\n",
    "def muestra_argumentos(**kwargs):\n",
    "    for key, value in kwargs.items():\n",
    "        print(f'{key}: {value}')\n",
    "\n",
    "muestra_argumentos(nombre='Juan', edad=30, profesion='ingeniero')"
   ]
  },
  {
   "cell_type": "markdown",
   "metadata": {},
   "source": [
    "## Funciones recursivas\n",
    "\n",
    "Las funciones que se llaman a sí mismas, son conocidas como una función recursiva. Este tipo de función es útil cuando se necesita resolver un problema de manera más eficiente que recursión iterativa."
   ]
  },
  {
   "cell_type": "code",
   "execution_count": 8,
   "metadata": {},
   "outputs": [
    {
     "name": "stdout",
     "output_type": "stream",
     "text": [
      "120\n"
     ]
    }
   ],
   "source": [
    "# ejemplo de función recursiva que calcule el factorial de un numero\n",
    "\n",
    "def factorial(n):\n",
    "    if n == 0:\n",
    "        return 1\n",
    "    else:\n",
    "        return n * factorial(n - 1)\n",
    "\n",
    "print(factorial(5))  # Imprime: 120"
   ]
  }
 ],
 "metadata": {
  "kernelspec": {
   "display_name": "Python 3",
   "language": "python",
   "name": "python3"
  },
  "language_info": {
   "codemirror_mode": {
    "name": "ipython",
    "version": 3
   },
   "file_extension": ".py",
   "mimetype": "text/x-python",
   "name": "python",
   "nbconvert_exporter": "python",
   "pygments_lexer": "ipython3",
   "version": "3.9.9"
  }
 },
 "nbformat": 4,
 "nbformat_minor": 2
}
