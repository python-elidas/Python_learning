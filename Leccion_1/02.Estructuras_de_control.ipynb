{
 "cells": [
  {
   "cell_type": "markdown",
   "metadata": {},
   "source": [
    "# Estructuras de control\n",
    "Las estructuras de control en python son elementos empleados para controlar la ejecución de código en función de una serie de condiciones preestablecidas.\n",
    "\n",
    "Se pueden distinguir tres familias:\n",
    "\n",
    "* Controladores de flujo\n",
    "    - if else\n",
    "    - for\n",
    "    - while\n",
    "\n",
    "* Control de errores\n",
    "    - try except\n",
    "    - raise\n",
    "    - finally\n",
    "\n",
    "* Ordenes especiales\n",
    "    - pass\n",
    "    - continue\n",
    "    - break"
   ]
  },
  {
   "cell_type": "markdown",
   "metadata": {},
   "source": [
    "## Control de Flujo\n",
    "\n",
    "Las estructuras de control de flujo, se emplean para controlar que sección del código se ejecuta en cada momento o dada una cierta condición"
   ]
  },
  {
   "cell_type": "markdown",
   "metadata": {},
   "source": [
    "### IF ELSE\n",
    "\n",
    "La estructura `if else` se utiliza para seleccionar una acción en función de una condición. se les puede denominar como controladores condicionales"
   ]
  },
  {
   "cell_type": "code",
   "execution_count": 2,
   "metadata": {},
   "outputs": [
    {
     "name": "stdout",
     "output_type": "stream",
     "text": [
      "x es mayor que 5\n"
     ]
    }
   ],
   "source": [
    "# ejemplo de uso de if \n",
    "\n",
    "# Definimos una variable\n",
    "x = 10\n",
    "# Controlamos la condición\n",
    "if x > 5:\n",
    "    print('x es mayor que 5')\n",
    "elif x==5:\n",
    "    print('x es igual a 5')\n",
    "else:\n",
    "    print('x es menor ')"
   ]
  },
  {
   "cell_type": "markdown",
   "metadata": {},
   "source": [
    "### For \n",
    "\n",
    "La estructura `for` se utiliza para iterar sobre una secuencia (como una lista, una tupla, un rango o una cadena) y ejecutar un bloque de código para cada elemento. a esta sentencia se le puede denominar como controlador iterativo."
   ]
  },
  {
   "cell_type": "code",
   "execution_count": 1,
   "metadata": {},
   "outputs": [
    {
     "name": "stdout",
     "output_type": "stream",
     "text": [
      "0\n",
      "1\n",
      "2\n",
      "3\n",
      "4\n"
     ]
    }
   ],
   "source": [
    "# ejemplo de uso del for\n",
    "for i in range(5):\n",
    "    print(i)"
   ]
  },
  {
   "cell_type": "markdown",
   "metadata": {},
   "source": [
    "### while \n",
    "\n",
    "La estructura `while` se utiliza para ejecutar un bloque de código mientras se cumpla una condición. A esta sentencia se le puede denominar como controlador iterativo condicional."
   ]
  },
  {
   "cell_type": "code",
   "execution_count": 3,
   "metadata": {},
   "outputs": [
    {
     "name": "stdout",
     "output_type": "stream",
     "text": [
      "0\n",
      "1\n",
      "2\n",
      "3\n",
      "4\n"
     ]
    }
   ],
   "source": [
    "#ejemplo de uso del while\n",
    "\n",
    "x = 0\n",
    "while x < 5:\n",
    "    print(x)\n",
    "    x += 1"
   ]
  },
  {
   "cell_type": "markdown",
   "metadata": {},
   "source": [
    "## Control de Errores\n",
    "\n",
    "Las estructuras de control de errores, se utilizan para manejar y prevenir los errores que pueden ocurrir durante la ejecución de un programa.\n",
    "\n"
   ]
  },
  {
   "cell_type": "markdown",
   "metadata": {},
   "source": [
    "### try except\n",
    "\n",
    "La estructura `try except` se utiliza para capturar y manejar excepciones que puedan ocurrir durante la ejecución de un bloque de código. A esta sentencia se le puede denominar como controlador de excepciones."
   ]
  },
  {
   "cell_type": "code",
   "execution_count": 4,
   "metadata": {},
   "outputs": [
    {
     "name": "stdout",
     "output_type": "stream",
     "text": [
      "Error: Division por cero\n"
     ]
    }
   ],
   "source": [
    "# ejemplo de uso del try except\n",
    "\n",
    "try:\n",
    "    x = 10 / 0\n",
    "except:\n",
    "    print('Error: Division por cero')"
   ]
  },
  {
   "cell_type": "markdown",
   "metadata": {},
   "source": [
    "### finally\n",
    "\n",
    "La estructura `finally` se utiliza para ejecutar un bloque de código independientemente de si se produjo una excepción o no."
   ]
  },
  {
   "cell_type": "code",
   "execution_count": 5,
   "metadata": {},
   "outputs": [
    {
     "name": "stdout",
     "output_type": "stream",
     "text": [
      "Error: Division por cero\n",
      "Esto se ejecuta siempre\n"
     ]
    }
   ],
   "source": [
    "#ejemplo de uso del finally\n",
    "\n",
    "try:\n",
    "    x = 10 / 0\n",
    "except:\n",
    "    print('Error: Division por cero')\n",
    "finally:\n",
    "    print('Esto se ejecuta siempre')"
   ]
  },
  {
   "cell_type": "markdown",
   "metadata": {},
   "source": [
    "### rise\n",
    "\n",
    "La estructura `raise` se utiliza para lanzar una excepción personalizada."
   ]
  },
  {
   "cell_type": "code",
   "execution_count": 7,
   "metadata": {},
   "outputs": [
    {
     "ename": "Exception",
     "evalue": "x no puede ser mayor que 5",
     "output_type": "error",
     "traceback": [
      "\u001b[1;31m---------------------------------------------------------------------------\u001b[0m",
      "\u001b[1;31mException\u001b[0m                                 Traceback (most recent call last)",
      "Cell \u001b[1;32mIn[7], line 4\u001b[0m\n\u001b[0;32m      2\u001b[0m x \u001b[38;5;241m=\u001b[39m \u001b[38;5;241m10\u001b[39m\n\u001b[0;32m      3\u001b[0m \u001b[38;5;28;01mif\u001b[39;00m x \u001b[38;5;241m>\u001b[39m \u001b[38;5;241m5\u001b[39m:\n\u001b[1;32m----> 4\u001b[0m     \u001b[38;5;28;01mraise\u001b[39;00m \u001b[38;5;167;01mException\u001b[39;00m(\u001b[38;5;124m'\u001b[39m\u001b[38;5;124mx no puede ser mayor que 5\u001b[39m\u001b[38;5;124m'\u001b[39m)\n",
      "\u001b[1;31mException\u001b[0m: x no puede ser mayor que 5"
     ]
    }
   ],
   "source": [
    "#ejemplo de uso del rise\n",
    "x = 10\n",
    "if x > 5:\n",
    "    raise Exception('x no puede ser mayor que 5')"
   ]
  },
  {
   "cell_type": "markdown",
   "metadata": {},
   "source": [
    "## Sentencias especiales:\n",
    "\n",
    "Las sentencias especiales, como `pass`, `continue` y `break`, se utilizan para controlar el flujo de ejecución en un programa.\n"
   ]
  },
  {
   "cell_type": "markdown",
   "metadata": {},
   "source": [
    "### pass\n",
    "\n",
    "La sentencia `pass` se utiliza para evitar que el código contenido dentro de ella se ejecute. Se puede usar en lugar de bloques vacíos o cuando no se quiere realizar ninguna acción en un punto del código."
   ]
  },
  {
   "cell_type": "code",
   "execution_count": 8,
   "metadata": {},
   "outputs": [],
   "source": [
    "# ejemplo de uso de pass\n",
    "x = 10\n",
    "if x > 5:\n",
    "    pass\n",
    "else:\n",
    "    print('x no puede ser mayor que 5')"
   ]
  },
  {
   "cell_type": "markdown",
   "metadata": {},
   "source": [
    "### continue\n",
    "\n",
    "La sentencia `continue` se utiliza para saltar el resto del código dentro de un bucle y continuar con la siguiente iteración. Se puede usar en lugar de saltar a la siguiente iteración de un bucle `for` o `while`."
   ]
  },
  {
   "cell_type": "code",
   "execution_count": 9,
   "metadata": {},
   "outputs": [
    {
     "name": "stdout",
     "output_type": "stream",
     "text": [
      "1\n",
      "3\n",
      "5\n",
      "7\n",
      "9\n"
     ]
    }
   ],
   "source": [
    "# ejemplo de uso de continue\n",
    "for i in range(10):\n",
    "    if i % 2 == 0:\n",
    "        continue\n",
    "    print(i)"
   ]
  },
  {
   "cell_type": "markdown",
   "metadata": {},
   "source": [
    "### break\n",
    "\n",
    "La sentencia `break` se utiliza para salir de un bucle inmediatamente y detener la ejecución del código en ese punto. Se puede usar en lugar de salir de un bucle `for` o `while`."
   ]
  },
  {
   "cell_type": "code",
   "execution_count": 10,
   "metadata": {},
   "outputs": [
    {
     "name": "stdout",
     "output_type": "stream",
     "text": [
      "0\n",
      "1\n",
      "2\n",
      "3\n",
      "4\n"
     ]
    }
   ],
   "source": [
    "# ejemplo de uso de break\n",
    "\n",
    "for i in range(10):\n",
    "    if i == 5:\n",
    "        break\n",
    "    print(i)"
   ]
  }
 ],
 "metadata": {
  "kernelspec": {
   "display_name": "Python 3",
   "language": "python",
   "name": "python3"
  },
  "language_info": {
   "codemirror_mode": {
    "name": "ipython",
    "version": 3
   },
   "file_extension": ".py",
   "mimetype": "text/x-python",
   "name": "python",
   "nbconvert_exporter": "python",
   "pygments_lexer": "ipython3",
   "version": "3.9.9"
  }
 },
 "nbformat": 4,
 "nbformat_minor": 2
}
