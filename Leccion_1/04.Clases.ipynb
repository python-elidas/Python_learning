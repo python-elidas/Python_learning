{
 "cells": [
  {
   "cell_type": "markdown",
   "metadata": {},
   "source": [
    "# Clases en python\n",
    "\n",
    "Las clases en python son estructuras de código modulares o plantillas que se emplean para crear diferentes instancias de un mismo objeto\n",
    "\n",
    "## Características de las clases en Python\n",
    "\n",
    "- Las clases encapsulan datos y comportamiento en una unidad cohesiva.\n",
    "- Las clases permiten reutilizar código y asegurar la encapsulación de datos y comportamiento.\n",
    "- Las clases pueden tener atributos y métodos.\n",
    "- Las clases pueden heredar de otras clases para extender su comportamiento."
   ]
  },
  {
   "cell_type": "markdown",
   "metadata": {},
   "source": [
    "## Atributos de las clases\n",
    "\n",
    "Los atributos son las variables que se almacenan en las clases para representar las propiedades de un objeto. Los atributos pueden ser de cualquier tipo de datos. \n",
    "\n",
    "## Métodos de las clases\n",
    "\n",
    "Los métodos son las funciones que se ejecutan cuando se invoca una instancia de una clase. Los métodos pueden recibir parámetros y devolver un valor."
   ]
  },
  {
   "cell_type": "code",
   "execution_count": null,
   "metadata": {},
   "outputs": [],
   "source": [
    "# ejemplo de clase coche\n",
    "class Coche:\n",
    "    def __init__(self, marca, modelo, color):\n",
    "        self.marca = marca\n",
    "        self.modelo = modelo\n",
    "        self.color = color\n",
    "        self.ruedas = 4\n",
    "        self.en_marcha = False\n",
    "    \n",
    "    def arrancar(self):\n",
    "        self.en_marcha = True\n",
    "    \n",
    "    def apagar(self):\n",
    "        self.en_marcha = False\n",
    "    \n",
    "    def estado(self):\n",
    "        print(f\"Marca: {self.marca}, Modelo: {self.modelo}, Color: {self.color}, Ruedas: {self.ruedas}, En marcha: {self.en_marcha}\")\n",
    "    \n",
    "    def cambiar_color(self, color):\n",
    "        self.color = color\n",
    "    \n",
    "    def acelerar(self, velocidad):\n",
    "        print(f\"El coche acelera a {velocidad} km/h\")"
   ]
  }
 ],
 "metadata": {
  "kernelspec": {
   "display_name": "Python 3",
   "language": "python",
   "name": "python3"
  },
  "language_info": {
   "name": "python",
   "version": "3.9.9"
  }
 },
 "nbformat": 4,
 "nbformat_minor": 2
}
