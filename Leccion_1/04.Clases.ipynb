{
 "cells": [
  {
   "cell_type": "markdown",
   "metadata": {},
   "source": [
    "# Clases en python\n",
    "\n",
    "Las clases en python son estructuras de código modulares o plantillas que se emplean para crear diferentes instancias de un mismo objeto\n",
    "\n",
    "## Características de las clases en Python\n",
    "\n",
    "- Las clases encapsulan datos y comportamiento en una unidad cohesiva.\n",
    "- Las clases permiten reutilizar código y asegurar la encapsulación de datos y comportamiento.\n",
    "- Las clases pueden tener atributos y métodos.\n",
    "- Las clases pueden heredar de otras clases para extender su comportamiento."
   ]
  },
  {
   "cell_type": "markdown",
   "metadata": {},
   "source": [
    "## Atributos de las clases\n",
    "\n",
    "Los atributos son las variables que se almacenan en las clases para representar las propiedades de un objeto. Los atributos pueden ser de cualquier tipo de datos. \n",
    "\n",
    "## Métodos de las clases\n",
    "\n",
    "Los métodos son las funciones que se ejecutan cuando se invoca una instancia de una clase. Los métodos pueden recibir parámetros y devolver un valor."
   ]
  },
  {
   "cell_type": "code",
   "execution_count": null,
   "metadata": {},
   "outputs": [],
   "source": [
    "# ejemplo de clase coche\n",
    "class Coche:\n",
    "    def __init__(self, marca, modelo, color):\n",
    "        self.marca = marca\n",
    "        self.modelo = modelo\n",
    "        self.color = color\n",
    "        self.ruedas = 4\n",
    "        self.en_marcha = False\n",
    "    \n",
    "    def arrancar(self):\n",
    "        self.en_marcha = True\n",
    "    \n",
    "    def apagar(self):\n",
    "        self.en_marcha = False\n",
    "    \n",
    "    def estado(self):\n",
    "        print(f\"Marca: {self.marca}, Modelo: {self.modelo}, Color: {self.color}, Ruedas: {self.ruedas}, En marcha: {self.en_marcha}\")\n",
    "    \n",
    "    def cambiar_color(self, color):\n",
    "        self.color = color\n",
    "    \n",
    "    def acelerar(self, velocidad):\n",
    "        print(f\"El coche acelera a {velocidad} km/h\")"
   ]
  },
  {
   "cell_type": "markdown",
   "metadata": {},
   "source": [
    "## herencia\n",
    "\n",
    "La herencia es un mecanismo de la programación que permite que una clase hereda los atributos y métodos de otra clase. Cuando una clase hereda de otra, se conoce como clase padre o superclase y clase hija o subclase.\n",
    "\n",
    "La herencia puede ser útil para reutilizar código y asegurar la herencia de comportamiento. La herencia facilita la modulación del código y la mantenibilidad del programa.\n",
    "\n",
    "Un ejemplo de herencia en Python es la clase Coche que hereda de la clase Vehiculo."
   ]
  },
  {
   "cell_type": "code",
   "execution_count": null,
   "metadata": {},
   "outputs": [],
   "source": [
    "# ejemplo de herencia\n",
    "\n",
    "class Vehiculo:\n",
    "    def __init__(self, marca, modelo):\n",
    "        self.marca = marca\n",
    "        self.modelo = modelo\n",
    "        self.ruedas = 4\n",
    "    \n",
    "    def arrancar(self):\n",
    "        print(\"Arrancando vehiculo\")\n",
    "        \n",
    "    def apagar(self):\n",
    "        print(\"Apagando vehiculo\")\n",
    "        \n",
    "    def estado(self):\n",
    "        print(f\"Marca: {self.marca}, Modelo: {self.modelo}, Ruedas: {self.ruedas}\")\n",
    "\n",
    "\n",
    "class Moto(Vehiculo):\n",
    "    def __init__(self, marca, modelo, cilindrada):\n",
    "        super().__init__(marca, modelo)\n",
    "        self.ruedas = 2\n",
    "        self.cilindrada = cilindrada\n",
    "    \n",
    "    def acelerar(self):\n",
    "        print(\"Acelerando moto\")"
   ]
  }
 ],
 "metadata": {
  "kernelspec": {
   "display_name": "Python 3",
   "language": "python",
   "name": "python3"
  },
  "language_info": {
   "name": "python",
   "version": "3.9.9"
  }
 },
 "nbformat": 4,
 "nbformat_minor": 2
}
