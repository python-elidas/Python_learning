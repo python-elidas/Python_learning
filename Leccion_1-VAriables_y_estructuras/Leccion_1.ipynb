{
 "cells": [
  {
   "cell_type": "markdown",
   "metadata": {},
   "source": [
    "# Librerias"
   ]
  },
  {
   "cell_type": "code",
   "execution_count": null,
   "metadata": {},
   "outputs": [],
   "source": [
    "# de momento nos saltamos esto"
   ]
  },
  {
   "cell_type": "markdown",
   "metadata": {},
   "source": [
    "***"
   ]
  },
  {
   "cell_type": "markdown",
   "metadata": {},
   "source": [
    "### Variables"
   ]
  },
  {
   "cell_type": "markdown",
   "metadata": {},
   "source": [
    "Existen 4 tipos de varibale principalmente en Python:\n",
    "  * Cadenas de caracteres\n",
    "  * valor entero\n",
    "  * valor decimal\n",
    "  * booleana"
   ]
  },
  {
   "cell_type": "code",
   "execution_count": 1,
   "metadata": {},
   "outputs": [],
   "source": [
    "a = str()   # Cadena de caracteres\n",
    "b = int()   # valor entero\n",
    "c = float() # Valor decimal\n",
    "d = bool()  # Booleano"
   ]
  },
  {
   "cell_type": "code",
   "execution_count": 2,
   "metadata": {},
   "outputs": [],
   "source": [
    "a = 'hola mundo' == \"Hola Mundo\"\n",
    "b = 1\n",
    "c = 0.1\n",
    "d = True == False "
   ]
  },
  {
   "cell_type": "markdown",
   "metadata": {},
   "source": [
    "***"
   ]
  },
  {
   "cell_type": "markdown",
   "metadata": {},
   "source": [
    "## Notas\n",
    "* **Nota 1:** Texto de ejemplo"
   ]
  },
  {
   "cell_type": "markdown",
   "metadata": {},
   "source": [
    "## Bibliografia:\n",
    "\n",
    "   * **Elemento bibliografico 1**: url"
   ]
  },
  {
   "cell_type": "markdown",
   "metadata": {},
   "source": [
    "### Autor\n",
    "\n",
    "   - **Name:** Elidas\n",
    "   - **Email:** pyro.elidas@gmail.com\n",
    "   - **Python version:** 3.9.1\n",
    "   - **Date:** 15/12/2021"
   ]
  }
 ],
 "metadata": {
  "interpreter": {
   "hash": "79634f11f5d500697bbf0000070d950e27945be0c0d1052ada8e56771a894edd"
  },
  "kernelspec": {
   "display_name": "Python 3.9.1 32-bit",
   "language": "python",
   "name": "python3"
  },
  "language_info": {
   "codemirror_mode": {
    "name": "ipython",
    "version": 3
   },
   "file_extension": ".py",
   "mimetype": "text/x-python",
   "name": "python",
   "nbconvert_exporter": "python",
   "pygments_lexer": "ipython3",
   "version": "3.9.1"
  },
  "orig_nbformat": 4
 },
 "nbformat": 4,
 "nbformat_minor": 2
}
